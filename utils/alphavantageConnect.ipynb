{
 "cells": [
  {
   "cell_type": "code",
   "execution_count": 1,
   "metadata": {},
   "outputs": [],
   "source": [
    "import os\n",
    "import pandas as pd\n",
    "from dotenv import load_dotenv\n",
    "from alpha_vantage.timeseries import TimeSeries"
   ]
  },
  {
   "cell_type": "code",
   "execution_count": 2,
   "metadata": {},
   "outputs": [
    {
     "data": {
      "text/plain": [
       "True"
      ]
     },
     "execution_count": 2,
     "metadata": {},
     "output_type": "execute_result"
    }
   ],
   "source": [
    "load_dotenv()"
   ]
  },
  {
   "cell_type": "code",
   "execution_count": 3,
   "metadata": {},
   "outputs": [],
   "source": [
    "key= os.getenv(\"ALPHA_VANTAGE_API_KEY\")"
   ]
  },
  {
   "cell_type": "code",
   "execution_count": 9,
   "metadata": {},
   "outputs": [],
   "source": [
    "ticker= \"SPY\"\n",
    "ts= TimeSeries(key, output_format=\"pandas\")\n",
    "data, meta= ts.get_daily(ticker, outputsize=\"full\")"
   ]
  },
  {
   "cell_type": "code",
   "execution_count": 10,
   "metadata": {},
   "outputs": [
    {
     "data": {
      "text/plain": [
       "{'1. Information': 'Daily Prices (open, high, low, close) and Volumes',\n",
       " '2. Symbol': 'SPY',\n",
       " '3. Last Refreshed': '2022-02-11',\n",
       " '4. Output Size': 'Full size',\n",
       " '5. Time Zone': 'US/Eastern'}"
      ]
     },
     "execution_count": 10,
     "metadata": {},
     "output_type": "execute_result"
    }
   ],
   "source": [
    "meta"
   ]
  },
  {
   "cell_type": "code",
   "execution_count": 11,
   "metadata": {},
   "outputs": [
    {
     "name": "stdout",
     "output_type": "stream",
     "text": [
      "             1. open   2. high    3. low  4. close    5. volume\n",
      "date                                                           \n",
      "2022-02-11  449.4100  451.6050  438.9400  440.4600  153214597.0\n",
      "2022-02-10  451.3400  457.7100  447.2000  449.3200  140103712.0\n",
      "2022-02-09  455.2200  457.8800  455.0050  457.5400   92589929.0\n",
      "2022-02-08  446.7300  451.9200  445.2200  450.9400   81012036.0\n",
      "2022-02-07  449.5100  450.9900  445.8500  447.2600   84472859.0\n",
      "...              ...       ...       ...       ...          ...\n",
      "1999-11-05  138.6250  139.1093  136.7812  137.8750    7431500.0\n",
      "1999-11-04  136.7500  137.3593  135.7656  136.5312    7907500.0\n",
      "1999-11-03  136.0000  136.3750  135.1250  135.5000    7222300.0\n",
      "1999-11-02  135.9687  137.2500  134.5937  134.5937    6516900.0\n",
      "1999-11-01  136.5000  137.0000  135.5625  135.5625    4006500.0\n",
      "\n",
      "[5608 rows x 5 columns]\n"
     ]
    }
   ],
   "source": [
    "print(data)"
   ]
  },
  {
   "cell_type": "code",
   "execution_count": null,
   "metadata": {},
   "outputs": [],
   "source": []
  }
 ],
 "metadata": {
  "interpreter": {
   "hash": "bc356e6e3472e2044ff1149519eaf8c145f50ce47084c49bd8b261037eb5dcf7"
  },
  "kernelspec": {
   "display_name": "Python 3.7.10 ('dev')",
   "language": "python",
   "name": "python3"
  },
  "language_info": {
   "codemirror_mode": {
    "name": "ipython",
    "version": 3
   },
   "file_extension": ".py",
   "mimetype": "text/x-python",
   "name": "python",
   "nbconvert_exporter": "python",
   "pygments_lexer": "ipython3",
   "version": "3.7.10"
  },
  "orig_nbformat": 4
 },
 "nbformat": 4,
 "nbformat_minor": 2
}
